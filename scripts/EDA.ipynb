{
 "cells": [
  {
   "cell_type": "markdown",
   "metadata": {},
   "source": [
    "# Appliquer votre méthodologie sur le jeu de données de détection d’intrusions dans les réseaux (Kddcup99). "
   ]
  },
  {
   "cell_type": "markdown",
   "metadata": {},
   "source": [
    "<hr>"
   ]
  },
  {
   "cell_type": "code",
   "execution_count": 24,
   "metadata": {},
   "outputs": [],
   "source": [
    "from utils import *"
   ]
  },
  {
   "cell_type": "code",
   "execution_count": 25,
   "metadata": {},
   "outputs": [
    {
     "name": "stdout",
     "output_type": "stream",
     "text": [
      "Labels uniques avant transformation : ['normal' 'buffer_overflow' 'loadmodule' 'perl' 'neptune' 'smurf'\n",
      " 'guess_passwd' 'pod' 'teardrop' 'portsweep' 'ipsweep' 'land' 'ftp_write'\n",
      " 'back' 'imap' 'satan' 'phf' 'nmap' 'multihop' 'warezmaster' 'warezclient'\n",
      " 'spy' 'rootkit']\n"
     ]
    }
   ],
   "source": [
    "# Charger le dataset\n",
    "df = pd.read_csv('../data/csv/KDDCup99.csv', sep=',')\n",
    "print(\"Labels uniques avant transformation :\", df['label'].unique())"
   ]
  },
  {
   "cell_type": "code",
   "execution_count": 26,
   "metadata": {},
   "outputs": [
    {
     "name": "stdout",
     "output_type": "stream",
     "text": [
      "Labels après transformation : label\n",
      "1    396743\n",
      "0     97277\n",
      "Name: count, dtype: int64\n"
     ]
    }
   ],
   "source": [
    "df['label'] = np.where(df['label'] == 'normal', 0, 1)\n",
    "print(\"Labels après transformation :\", df['label'].value_counts())"
   ]
  },
  {
   "cell_type": "code",
   "execution_count": 27,
   "metadata": {},
   "outputs": [],
   "source": [
    "# Séparer les normales et les anomalies\n",
    "X = df.drop(columns=['label'])\n",
    "Y = df['label']"
   ]
  },
  {
   "cell_type": "code",
   "execution_count": 28,
   "metadata": {},
   "outputs": [],
   "source": [
    "X_normal = X[Y == 0]\n",
    "Y_normal = Y[Y == 0]"
   ]
  },
  {
   "cell_type": "code",
   "execution_count": 29,
   "metadata": {},
   "outputs": [],
   "source": [
    "\n",
    "X_anomalie = X[Y == 1]\n",
    "Y_anomalie = Y[Y == 1]"
   ]
  },
  {
   "cell_type": "code",
   "execution_count": 30,
   "metadata": {},
   "outputs": [
    {
     "data": {
      "text/plain": [
       "97277"
      ]
     },
     "execution_count": 30,
     "metadata": {},
     "output_type": "execute_result"
    }
   ],
   "source": [
    "# Nombre d’échantillons pour équilibrer\n",
    "taille_echantillon = min(len(X_normal), len(X_anomalie))\n",
    "taille_echantillon"
   ]
  },
  {
   "cell_type": "code",
   "execution_count": 31,
   "metadata": {},
   "outputs": [],
   "source": [
    "X_normal_sampled = X_normal.sample(taille_echantillon, random_state=42)\n",
    "Y_normal_sampled = Y_normal.sample(taille_echantillon, random_state=42)"
   ]
  },
  {
   "cell_type": "code",
   "execution_count": 32,
   "metadata": {},
   "outputs": [],
   "source": [
    "X_anomalie_sampled = X_anomalie.sample(taille_echantillon, random_state=42)\n",
    "Y_anomalie_sampled = Y_anomalie.sample(taille_echantillon, random_state=42)\n"
   ]
  },
  {
   "cell_type": "code",
   "execution_count": 33,
   "metadata": {},
   "outputs": [
    {
     "name": "stdout",
     "output_type": "stream",
     "text": [
      " Dataset équilibré : 97277 normales | 97277 anomalies\n"
     ]
    }
   ],
   "source": [
    "# Fusion des datasets équilibrés\n",
    "X_final = pd.concat([X_normal_sampled, X_anomalie_sampled], axis=0)\n",
    "Y_final = pd.concat([Y_normal_sampled, Y_anomalie_sampled], axis=0)\n",
    "print(f\" Dataset équilibré : {sum(Y_final == 0)} normales | {sum(Y_final == 1)} anomalies\")\n",
    "\n"
   ]
  },
  {
   "cell_type": "code",
   "execution_count": 34,
   "metadata": {},
   "outputs": [],
   "source": [
    "# Encoder les variables catégoriques\n",
    "X_final_encoded = pd.get_dummies(X_final, columns=['protocol_type', 'service', 'flag'])"
   ]
  },
  {
   "cell_type": "code",
   "execution_count": 35,
   "metadata": {},
   "outputs": [
    {
     "name": "stdout",
     "output_type": "stream",
     "text": [
      "duration          int64\n",
      "src_bytes         int64\n",
      "dst_bytes         int64\n",
      "land              int64\n",
      "wrong_fragment    int64\n",
      "                  ...  \n",
      "flag_S1            bool\n",
      "flag_S2            bool\n",
      "flag_S3            bool\n",
      "flag_SF            bool\n",
      "flag_SH            bool\n",
      "Length: 117, dtype: object\n"
     ]
    }
   ],
   "source": [
    "print(X_final_encoded.dtypes)"
   ]
  },
  {
   "cell_type": "code",
   "execution_count": 36,
   "metadata": {},
   "outputs": [],
   "source": [
    "# Appliquer PCA depuis `utils.py`\n",
    "# X_final_pca = apply_pca(X_final_encoded, n_components=30)"
   ]
  },
  {
   "cell_type": "code",
   "execution_count": 37,
   "metadata": {},
   "outputs": [],
   "source": [
    "# Normalisation avec RobustScaler depuis `utils.py`\n",
    "X_scaled = RobScaler(X_final_encoded)"
   ]
  },
  {
   "cell_type": "code",
   "execution_count": 38,
   "metadata": {},
   "outputs": [
    {
     "name": "stdout",
     "output_type": "stream",
     "text": [
      "Données prêtes pour l'entraînement\n"
     ]
    }
   ],
   "source": [
    "# Split dataset en train/test\n",
    "\n",
    "X_train, X_test, Y_train, Y_test = train_test_split(X_scaled, Y_final, test_size=0.3, stratify=Y_final, random_state=42)\n",
    "\n",
    "print(\"Données prêtes pour l'entraînement\")"
   ]
  },
  {
   "cell_type": "code",
   "execution_count": 39,
   "metadata": {},
   "outputs": [],
   "source": [
    "# Définition de la pipeline\n",
    "clf = RandomForestClassifier(n_estimators=100, max_depth=10, min_samples_split=10,\n",
    "                             min_samples_leaf=5, max_features='sqrt', class_weight=\"balanced\", random_state=1)"
   ]
  },
  {
   "cell_type": "code",
   "execution_count": 40,
   "metadata": {},
   "outputs": [
    {
     "name": "stdout",
     "output_type": "stream",
     "text": [
      "Pipeline entraînée avec succès !\n"
     ]
    }
   ],
   "source": [
    "clf = RandomForestClassifier()\n",
    "P = Pipeline([\n",
    "    ('ss', StandardScaler()),\n",
    "    ('FS', SelectFromModel(clf, max_features=30)),\n",
    "    ('classifier', clf)\n",
    "])\n",
    "\n",
    "# Entraînement du pipeline\n",
    "P.fit(X_train, Y_train)\n",
    "print(\"Pipeline entraînée avec succès !\")"
   ]
  },
  {
   "cell_type": "code",
   "execution_count": 41,
   "metadata": {},
   "outputs": [
    {
     "name": "stdout",
     "output_type": "stream",
     "text": [
      "Modèle sauvegardé dans artifacts/model.pkl\n"
     ]
    }
   ],
   "source": [
    "with open('../artifacts/model.pkl', 'wb') as model_file:\n",
    "    pickle.dump(P, model_file)\n",
    "\n",
    "print(\"Modèle sauvegardé dans artifacts/model.pkl\")"
   ]
  },
  {
   "cell_type": "code",
   "execution_count": 42,
   "metadata": {},
   "outputs": [],
   "source": [
    "# Prédictions\n",
    "Y_pred = P.predict(X_test)"
   ]
  },
  {
   "cell_type": "code",
   "execution_count": 43,
   "metadata": {},
   "outputs": [
    {
     "data": {
      "image/png": "[encoded data removed]",
      "text/plain": [
       "<Figure size 640x480 with 2 Axes>"
      ]
     },
     "metadata": {},
     "output_type": "display_data"
    },
    {
     "name": "stdout",
     "output_type": "stream",
     "text": [
      " Rapport de Classification :\n",
      "              precision    recall  f1-score   support\n",
      "\n",
      "           0       1.00      1.00      1.00     29184\n",
      "           1       1.00      1.00      1.00     29183\n",
      "\n",
      "    accuracy                           1.00     58367\n",
      "   macro avg       1.00      1.00      1.00     58367\n",
      "weighted avg       1.00      1.00      1.00     58367\n",
      "\n"
     ]
    }
   ],
   "source": [
    "cm = confusion_matrix(Y_test, Y_pred)\n",
    "disp = ConfusionMatrixDisplay(confusion_matrix=cm, display_labels=[0, 1])\n",
    "disp.plot(cmap=plt.cm.Blues)\n",
    "plt.title(\"Matrice de Confusion\")\n",
    "plt.show()\n",
    "\n",
    "# Rapport de classification\n",
    "print(\" Rapport de Classification :\")\n",
    "print(classification_report(Y_test, Y_pred))"
   ]
  },
  {
   "cell_type": "code",
   "execution_count": 45,
   "metadata": {},
   "outputs": [
    {
     "name": "stdout",
     "output_type": "stream",
     "text": [
      "{'prediction': 1}\n"
     ]
    }
   ],
   "source": [
    "import requests\n",
    "response = requests.post(\"http://localhost:8000/predict\", json={\"features\": [0, \"tcp\", \"http\", \"SF\", 181, 5450, 0, 0, 0, 0, 0, 1, 0, 0, 0, 0, 0, 0, 0, 0, 0, 0, 8, 8, 0.00, 0.00, 0.00, 0.00, 1.00, 0.00, 0.00, 9, 9, 1.00, 0.00, 0.11, 0.00, 0.00, 0.00, 0.00, 0.00]})\n",
    "print(response.json())"
   ]
  }
 ],
 "metadata": {
  "kernelspec": {
   "display_name": ".venv",
   "language": "python",
   "name": "python3"
  },
  "language_info": {
   "codemirror_mode": {
    "name": "ipython",
    "version": 3
   },
   "file_extension": ".py",
   "mimetype": "text/x-python",
   "name": "python",
   "nbconvert_exporter": "python",
   "pygments_lexer": "ipython3",
   "version": "3.11.9"
  }
 },
 "nbformat": 4,
 "nbformat_minor": 2
}
