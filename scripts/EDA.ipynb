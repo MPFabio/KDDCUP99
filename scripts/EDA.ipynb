{
 "cells": [
  {
   "cell_type": "markdown",
   "metadata": {},
   "source": [
    "# Appliquer votre méthodologie sur le jeu de données de détection d’intrusions dans les réseaux (Kddcup99). "
   ]
  },
  {
   "cell_type": "markdown",
   "metadata": {},
   "source": [
    "<hr>"
   ]
  },
  {
   "cell_type": "code",
   "execution_count": 2,
   "metadata": {},
   "outputs": [],
   "source": [
    "from utils import *"
   ]
  },
  {
   "cell_type": "code",
   "execution_count": 3,
   "metadata": {},
   "outputs": [
    {
     "name": "stdout",
     "output_type": "stream",
     "text": [
      "Labels uniques avant transformation : ['normal' 'buffer_overflow' 'loadmodule' 'perl' 'neptune' 'smurf'\n",
      " 'guess_passwd' 'pod' 'teardrop' 'portsweep' 'ipsweep' 'land' 'ftp_write'\n",
      " 'back' 'imap' 'satan' 'phf' 'nmap' 'multihop' 'warezmaster' 'warezclient'\n",
      " 'spy' 'rootkit']\n"
     ]
    }
   ],
   "source": [
    "# Charger le dataset\n",
    "df = pd.read_csv('../data/csv/KDDCup99.csv', sep=',')\n",
    "print(\"Labels uniques avant transformation :\", df['label'].unique())"
   ]
  },
  {
   "cell_type": "code",
   "execution_count": 4,
   "metadata": {},
   "outputs": [
    {
     "name": "stdout",
     "output_type": "stream",
     "text": [
      "Valeurs uniques dans duration : [   0    1   79 ... 2695 2751  120]\n",
      "Valeurs uniques dans protocol_type : ['tcp' 'udp' 'icmp']\n",
      "Valeurs uniques dans service : ['http' 'smtp' 'finger' 'domain_u' 'auth' 'telnet' 'ftp' 'eco_i' 'ntp_u'\n",
      " 'ecr_i' 'other' 'private' 'pop_3' 'ftp_data' 'rje' 'time' 'mtp' 'link'\n",
      " 'remote_job' 'gopher' 'ssh' 'name' 'whois' 'domain' 'login' 'imap4'\n",
      " 'daytime' 'ctf' 'nntp' 'shell' 'IRC' 'nnsp' 'http_443' 'exec' 'printer'\n",
      " 'efs' 'courier' 'uucp' 'klogin' 'kshell' 'echo' 'discard' 'systat'\n",
      " 'supdup' 'iso_tsap' 'hostnames' 'csnet_ns' 'pop_2' 'sunrpc' 'uucp_path'\n",
      " 'netbios_ns' 'netbios_ssn' 'netbios_dgm' 'sql_net' 'vmnet' 'bgp' 'Z39_50'\n",
      " 'ldap' 'netstat' 'urh_i' 'X11' 'urp_i' 'pm_dump' 'tftp_u' 'tim_i' 'red_i']\n",
      "Valeurs uniques dans flag : ['SF' 'S1' 'REJ' 'S2' 'S0' 'S3' 'RSTO' 'RSTR' 'RSTOS0' 'OTH' 'SH']\n",
      "Valeurs uniques dans src_bytes : [181 239 235 ... 500 484 475]\n",
      "Valeurs uniques dans dst_bytes : [ 5450   486  1337 ... 34557 10592 13828]\n",
      "Valeurs uniques dans land : [0 1]\n",
      "Valeurs uniques dans wrong_fragment : [0 1 3]\n",
      "Valeurs uniques dans urgent : [0 2 1 3]\n",
      "Valeurs uniques dans hot : [ 0  1  3 19  6  4 30 24 14 18  2  5 17 22  7 16 12 20 10 28 15  9]\n",
      "Valeurs uniques dans num_failed_logins : [0 1 5 2 4 3]\n",
      "Valeurs uniques dans logged_in : [1 0]\n",
      "Valeurs uniques dans lnum_compromised : [  0   2   1   4  16   3 767   7  22  21 238   6 281   5  11 275  12  18\n",
      "  38  13 884   9 102]\n",
      "Valeurs uniques dans lroot_shell : [0 1]\n",
      "Valeurs uniques dans lsu_attempted : [0 1 2]\n",
      "Valeurs uniques dans lnum_root : [  0   2   1   3   9   5   6  16   4 857  39  12 268 278   7  14 306  54\n",
      " 993 119]\n",
      "Valeurs uniques dans lnum_file_creations : [ 0  1  2  4 15  9 16 28 10 21 14  5  7  8 12 25 22 20]\n",
      "Valeurs uniques dans lnum_shells : [0 2 1]\n",
      "Valeurs uniques dans lnum_access_files : [0 1 2 4 6 3 8]\n",
      "Valeurs uniques dans lnum_outbound_cmds : [0]\n",
      "Valeurs uniques dans is_host_login : [0]\n",
      "Valeurs uniques dans is_guest_login : [0 1]\n",
      "Valeurs uniques dans count : [  8   6   1   5  18  11   4   2  12   7  17   3  13  23  28  10   9  19\n",
      "  16  27  14  15  22  20  26  36  21  31  24  37  34  32  29  39  25  35\n",
      "  30  33  41  38  45  55  51  61  43  40  65  75  44  54  64  74  42  52\n",
      "  62  72  50  60  70  80  49  59  69  79  46  56  66  76  48  47  57 316\n",
      " 511 510 509 330 334 351 359 383 394 421 424 428  67 444 461 462 465 470\n",
      " 471  95  96 100 489 491 497 498 508 154 172 182 189 205 225 232 233 237\n",
      " 301 312 314  73  53  63  85  71  81  82  84  58  68  78  77  83  86  87\n",
      "  88  89  90  91  92  93  94  97  98  99 108 118 128 138 148 158 168 103\n",
      " 113 123 133 143 153 253 149 159 169 179 199 209 219 173 183 193 203 213\n",
      " 223 243 105 115 263 273 167 177 187 197 207 217 227 126 136 146 156 166\n",
      " 176 107 117 127 137 147 157 178 272 282 291 311 224 234 244 254 264 274\n",
      " 284 294 292 321 285 295 305 315 283 293 303 322 191 201 161 313 181 269\n",
      " 277 287 306 326 228 238 248 257 267 310 320 246 256 266 276 286 296 196\n",
      " 206 304 324 120 130 140 150 160 170 180 111 164 174 186 200 300 323 343\n",
      " 348 352 361 365 376 404 427 443 453 475 487 494 101 121 131 141 151 109\n",
      " 119 129 139 125 135 145 155 110 106 116 102 112 122 132 142 152 114 104\n",
      " 134 124 144 165 188 215 202 211 220 229 247 198 226 235 262 271 280 236\n",
      " 245 281 204 222 231 250 259 268 240 195 230 239 275 208 290 212 221 258\n",
      " 249 216 289 298 190 194 185 218 242 251 260 278 210 265 192 255 214 241\n",
      " 175 184 252 261 270 279 171 288 297 163 299 162   0 340 350 360 370 380\n",
      " 390 400 410 420 430 440 450 460 480 490 500 329 333 354 357 388 432 454\n",
      " 477 302 358 373 379 386 429 435 449 456 493 504 309 319 339 349 369 389\n",
      " 399 409 419 439 459 469 479 499 325 335 345 355 375 385 395 405 415 425\n",
      " 445 507 327 371 392 406 412 418 437 448 476 484 492 501 503 502 505 506\n",
      " 308 346 374 393 402 417 436 463 474 478 446 398 362 414 466 413 431 422\n",
      " 367 403 433 488 481 464 482 473 457 441 451 452 458 442 455 485 447 486\n",
      " 434 468 483 438 472 467 356 363 495 496 381 391 401 411 307 317 337 347\n",
      " 377 387 397 407]\n",
      "Valeurs uniques dans srv_count : [  8   6   2   5  18   1  11   4  12   7  17   3  13  23  10  25  14  28\n",
      "  20  34  33  19  16   9  22  26  29  15  27  24  42  30  36  39  21  38\n",
      "  31  32  35  37  48  57  40  50  41  55  45  51  61  47  49  43  44  54\n",
      "  52  53  59  58  46  65  75  64  74  62  72  60  70  80  68  78  56  66\n",
      "  76  63  71  73 316 511 510 509 330 334 351 359 383 394 421 424 428  67\n",
      " 444 461 462 465 470 471  95  96 100 489 491 497 498 508 154 172 182 189\n",
      " 205 225 232 233 237 301 312 314  69  79  89  88  84  86  82  87  77  81\n",
      "  83  85  90  91  92  93  94  97  98  99 106 116 126 136 146 156 127 137\n",
      " 147 157 105 115 125 135 145 155 103 113 123 133 143 153 109 119 129 139\n",
      " 149 159 253 169 179 199 209 219 173 183 193 203 212 222 242 243 263 273\n",
      " 167 177 187 197 207 217 227 166 176 107 117 168 178 272 282 291 311 224\n",
      " 234 244 254 264 274 284 252 262 281 300 310 320 128 138 148 285 295 305\n",
      " 315 283 293 303 322 191 201 112 122 132 142 152 104 114 124 134 144 130\n",
      " 140 150 160 108 118 158 102 101 111 121 131 141 151 161 192 202 292 302\n",
      " 180 190 268 276 286 325 228 238 248 257 266 309 319 246 256 296 306 196\n",
      " 206 294 304 324 120 170 164 174 186 200 269 323 343 348 352 361 365 376\n",
      " 404 427 443 453 475 487 494 231 229 239 165 175 185 195 215 235 162 198\n",
      " 208 218 245 255 265 275 181 210 220 230 240 313 250 260 270 280 290 223\n",
      " 163 110 171 211   0 221 213 278 261 298 329 333 354 357 388 400 432 454\n",
      " 477 500 258 184 216 226 236 358 373 379 386 410 429 435 449 456 480 493\n",
      " 504 507 214 327 371 392 406 412 418 430 437 448 459 476 484 492 501 503\n",
      " 502 505 506 204 308 339 346 374 393 399 402 405 417 420 436 463 474 478\n",
      " 479 380 446 398 440 362 288 490 370 414 469 251 466 413 431 289 355 422\n",
      " 367 403 433 488 481 249 241 464 482 473 457 441 451 452 439 458 442 455\n",
      " 485 447 450 445 486 460 434 468 483 438 472 467 335 349 356 363 495 496\n",
      " 499 340 350 381 391 401 411 247 267 277 287 297 307 317 337 347 377 387\n",
      " 397 407]\n",
      "Valeurs uniques dans serror_rate : [0.   0.25 0.11 0.03 0.17 0.06 0.04 0.1  0.14 0.07 0.5  0.08 0.05 0.09\n",
      " 0.33 0.2  0.12 1.   0.83 0.94 0.02 0.71 0.76 0.78 0.81 0.79 0.77 0.75\n",
      " 0.74 0.73 0.72 0.69 0.68 0.67 0.66 0.65 0.64 0.63 0.99 0.01 0.13 0.15\n",
      " 0.16 0.19 0.21 0.23 0.22 0.24 0.26 0.28 0.27 0.29 0.3  0.31 0.18 0.34\n",
      " 0.36 0.35 0.38 0.4  0.42 0.44 0.32 0.98 0.97 0.93 0.95 0.96 0.88 0.91\n",
      " 0.92 0.85 0.84 0.82 0.86 0.62 0.6  0.59 0.57 0.55 0.53 0.58 0.9  0.89\n",
      " 0.87 0.8  0.7  0.61 0.56 0.54 0.52 0.51]\n",
      "Valeurs uniques dans srv_serror_rate : [0.   0.25 0.11 0.03 0.17 0.06 0.04 0.1  0.05 0.02 0.07 0.09 0.5  0.08\n",
      " 0.12 0.33 0.2  0.14 1.   0.27 0.67 0.75 0.93 0.92 0.88 0.94 0.36 0.95\n",
      " 0.58 0.76 0.15 0.22 0.18 0.4  0.01 0.16 0.19 0.38 0.37 0.91 0.35 0.45\n",
      " 0.83 0.21 0.44 0.23 0.51 0.86 0.9  0.8  0.85]\n",
      "Valeurs uniques dans rerror_rate : [0.   1.   0.08 0.5  0.96 0.92 0.88 0.25 0.2  0.17 0.14 0.1  0.09 0.4\n",
      " 0.33 0.29 0.75 0.6  0.24 0.22 0.19 0.21 0.23 0.26 0.27 0.28 0.31 0.32\n",
      " 0.34 0.35 0.36 0.37 0.71 0.67 0.01 0.05 0.12 0.06 0.11 0.03 0.07 0.04\n",
      " 0.02 0.89 0.9  0.87 0.93 0.91 0.86 0.94 0.95 0.98 0.97 0.99 0.43 0.83\n",
      " 0.85 0.82 0.81 0.79 0.78 0.8  0.76 0.73 0.77 0.74 0.72 0.7  0.69 0.84\n",
      " 0.66 0.64 0.65 0.62 0.58 0.56 0.68]\n",
      "Valeurs uniques dans srv_rerror_rate : [0.   1.   0.5  0.33 0.25 0.2  0.17 0.14 0.08 0.4  0.29 0.18 0.6  0.43\n",
      " 0.38 0.75 0.11 0.12 0.06 0.09 0.22 0.71 0.04 0.67 0.07 0.1  0.05 0.03\n",
      " 0.02 0.01 0.21 0.95 0.96 0.79 0.83 0.87 0.86 0.92 0.81 0.88 0.82 0.73\n",
      " 0.37 0.27 0.69 0.93 0.85 0.8  0.62 0.94 0.13]\n",
      "Valeurs uniques dans same_srv_rate : [1.   0.5  0.33 0.89 0.95 0.97 0.98 0.99 0.67 0.83 0.94 0.92 0.12 0.25\n",
      " 0.11 0.04 0.03 0.01 0.02 0.88 0.9  0.   0.17 0.29 0.2  0.86 0.75 0.8\n",
      " 0.14 0.06 0.05 0.96 0.07 0.09 0.08 0.16 0.31 0.1  0.24 0.18 0.15 0.22\n",
      " 0.13 0.23 0.21 0.19 0.39 0.26 0.28 0.34 0.27 0.49 0.93 0.62 0.6  0.91\n",
      " 0.77 0.57 0.82 0.36 0.43 0.65 0.4  0.71 0.3  0.41 0.37 0.51 0.35 0.47\n",
      " 0.73 0.52 0.54 0.59 0.64 0.61 0.48 0.38 0.32 0.44 0.56 0.42 0.58 0.68\n",
      " 0.7  0.72 0.74 0.85 0.87 0.78 0.79 0.45 0.76 0.46 0.53 0.63 0.55 0.81\n",
      " 0.69]\n",
      "Valeurs uniques dans diff_srv_rate : [0.   1.   0.67 0.22 0.11 0.07 0.05 0.04 0.03 0.33 0.12 0.17 0.88 0.5\n",
      " 0.54 0.55 0.53 0.56 0.57 0.58 0.25 0.2  0.02 0.01 0.1  0.29 0.4  0.15\n",
      " 0.71 0.89 0.47 0.41 0.39 0.38 0.37 0.36 0.42 0.08 0.06 0.09 0.8  0.14\n",
      " 0.44 0.74 0.13 0.18 0.99 0.97 0.95 0.96 0.43 0.23 0.31 0.27 0.75 0.16\n",
      " 0.21 0.6  0.24 0.19 0.28 0.52 0.51 0.64 0.82 0.3  0.7  0.69 0.73 0.26\n",
      " 0.78 0.35 0.62 0.45 0.86 0.32 0.83 0.46]\n",
      "Valeurs uniques dans srv_diff_host_rate : [0.   1.   0.25 0.2  0.12 0.15 0.23 0.14 0.4  0.1  0.06 0.11 0.07 0.16\n",
      " 0.22 0.29 0.18 0.08 0.09 0.33 0.13 0.5  0.75 0.21 0.67 0.19 0.27 0.17\n",
      " 0.43 0.36 0.31 0.57 0.6  0.62 0.55 0.05 0.04 0.3  0.38 0.24 0.42 0.44\n",
      " 0.8  0.56 0.45 0.83 0.03 0.71 0.41 0.26 0.02 0.46 0.28 0.32 0.86 0.47\n",
      " 0.64 0.01 0.54 0.37 0.88 0.7  0.35 0.77]\n",
      "Valeurs uniques dans dst_host_count : [  9  19  29  39  49  59   1  11   8  18  28  38   4  14  24  34  44  54\n",
      "  64  74  84  94   3  13  23   5  21  31  41   2  12  22  32  42  52  62\n",
      "  72  82  10  20  30  40  51  61  71  81  91 101 111 121 131 141 151 161\n",
      " 171 181 191 201 211 221 231 241 251 255   6  16  26  33  43  53  63  73\n",
      "  83  93 103 113 123 133 143   7  17  27  15  25  35  45 104 114 124 134\n",
      " 144 154 164 174 184 194 204 214 224 234 244 254  48  58  68  78  88  98\n",
      " 108 118  55  65  75  85  95  36  46  56  66  76  86  96 106 116 126 136\n",
      " 146 156 166 176 186 196 206 216 226 236 246  92 102 112 122 132 142 152\n",
      " 162 172 182 192 202 212 222 232 242 252  50  60  70  80  90 100  37  47\n",
      "  57  67 110 120 130 140 150 160 170 180  77  87  97  69  79  89  99 109\n",
      " 105 115 125 135 145 128 138 148 158 168 178 188 198 208 218 228 238 248\n",
      " 153 163 173 183 193 203 213 223 233 243 253 107 117 127 137 147 157 167\n",
      " 177 187 197 207 217 227 237 247 155 165 175 190 200 210 220 230 240 250\n",
      " 119 129 139 149 159 169 179 185 195 205 215 225 235 245 189 199 209 219\n",
      " 229 239 249   0]\n",
      "Valeurs uniques dans dst_host_srv_count : [  9  19  29  39  49  59  69  79  89  99 109 119 129 139 149 159 169 179\n",
      " 189 199 209 219 229 239 249 255   7  12   5  26  35  41  14  15  64  72\n",
      "  21  82  95 104 108 118  17  33  36  46  56  66  76  86  96 106 116 126\n",
      " 136 146 156 166 176 186 196 206 216 226 236 246   2  10   3  34  50   6\n",
      "  16  85  54   4  92 100 117 120 121 147 157 167 177 187 195 205 207  18\n",
      "  24  40 181 184 183 188 185 182 190  27  37  47  57  67  77  87  97 107\n",
      " 127 137 197 217 227   1  11  31   8  28  38  48  58  74  25  45  55  65\n",
      "  75 237 247  13  71  83  90  98 103 110 124 128 145 154 163 174  44 180\n",
      "  43 172 158  30  42 135  62 220 230 240 250  61 134 144 153 161  63  81\n",
      "  91 165 175 178 191 201 211 233 232 231 238 241 242 234  20 214 212 208\n",
      " 203 202 204 210 218 221 235 245 243  23  53  73  93 113 123 133 143 173\n",
      " 193 213 223  60  70  80 130 140 150 160 170 200 215 224  22  32 131 141\n",
      " 151 194 228 225 171 253 222 252  78  94 138 155 198 192  52 102 112 122\n",
      " 132 142 152 162  68 125 164 244 248 251 254  88 114 168  51  84 148 101\n",
      " 111 115 105   0]\n",
      "Valeurs uniques dans dst_host_same_srv_rate : [1.   0.88 0.67 0.68 0.13 0.54 0.6  0.18 0.17 0.65 0.8  0.27 0.11 0.58\n",
      " 0.55 0.2  0.53 0.22 0.09 0.83 0.14 0.81 0.7  0.99 0.9  0.75 0.72 0.74\n",
      " 0.21 0.76 0.85 0.94 0.92 0.91 0.95 0.89 0.93 0.69 0.64 0.62 0.37 0.59\n",
      " 0.5  0.86 0.96 0.3  0.97 0.79 0.57 0.73 0.1  0.33 0.66 0.06 0.63 0.15\n",
      " 0.61 0.23 0.84 0.87 0.36 0.38 0.41 0.43 0.45 0.34 0.46 0.05 0.71 0.24\n",
      " 0.25 0.04 0.98 0.07 0.4  0.77 0.82 0.12 0.42 0.31 0.28 0.08 0.03 0.47\n",
      " 0.56 0.78 0.02 0.19 0.35 0.39 0.   0.32 0.01 0.16 0.44 0.48 0.52 0.49\n",
      " 0.29 0.26 0.51]\n",
      "Valeurs uniques dans dst_host_diff_srv_rate : [0.   0.25 0.17 0.14 0.11 0.1  0.09 0.07 0.06 0.05 0.04 0.4  0.2  0.16\n",
      " 0.08 0.02 0.15 0.13 0.12 0.67 0.03 0.75 0.21 0.3  0.22 0.33 1.   0.29\n",
      " 0.19 0.5  0.36 0.27 0.18 0.01 0.44 0.6  0.38 0.43 0.24 0.23 0.26 0.28\n",
      " 0.31 0.34 0.9  0.8  0.72 0.65 0.55 0.51 0.48 0.45 0.42 0.93 0.83 0.74\n",
      " 0.61 0.56 0.52 0.49 0.46 0.91 0.81 0.66 0.94 0.62 0.57 0.53 0.99 0.87\n",
      " 0.77 0.7  0.63 0.58 0.54 0.47 0.41 0.39 0.37 0.35 0.88 0.78 0.64 0.59\n",
      " 0.97 0.86 0.76 0.69 0.89 0.79 0.71 0.32 0.96 0.85 0.68 0.92 0.82 0.73\n",
      " 0.84 0.95 0.98]\n",
      "Valeurs uniques dans dst_host_same_src_port_rate : [0.11 0.05 0.03 0.02 1.   0.09 0.12 0.06 0.04 0.25 0.07 0.01 0.33 0.08\n",
      " 0.2  0.5  0.1  0.   0.17 0.14 0.18 0.27 0.22 0.99 0.79 0.72 0.57 0.64\n",
      " 0.7  0.73 0.75 0.23 0.15 0.21 0.24 0.98 0.43 0.19 0.3  0.13 0.55 0.37\n",
      " 0.62 0.28 0.71 0.32 0.6  0.36 0.39 0.42 0.44 0.48 0.52 0.56 0.68 0.76\n",
      " 0.8  0.84 0.87 0.91 0.95 0.16 0.31 0.41 0.38 0.4  0.45 0.26 0.35 0.82\n",
      " 0.9  0.94 0.96 0.97 0.29 0.34 0.46 0.47 0.49 0.51 0.53 0.54 0.58 0.89\n",
      " 0.88 0.86 0.67 0.61 0.69 0.59 0.63 0.65 0.66 0.74 0.81 0.85 0.92 0.83\n",
      " 0.77 0.78 0.93]\n",
      "Valeurs uniques dans dst_host_srv_diff_host_rate : [0.   0.04 0.05 0.03 0.06 0.02 0.01 0.08 0.17 0.12 0.67 0.5  0.13 0.29\n",
      " 0.31 0.4  0.18 1.   0.07 0.11 0.09 0.33 0.1  0.25 0.22 0.3  0.43 0.44\n",
      " 0.14 0.27 0.19 0.16 0.2  0.15 0.38 0.24 0.21 0.23 0.32 0.28 0.26 0.6\n",
      " 0.47 0.34 0.35 0.36 0.57 0.53 0.52 0.51 0.48 0.37 0.56 0.54 0.55 0.58\n",
      " 0.8  0.62 0.45 0.42 0.46 0.39 0.75 0.7  0.41]\n",
      "Valeurs uniques dans dst_host_serror_rate : [0.   0.01 0.03 0.02 0.06 0.04 0.05 0.1  0.08 0.07 0.33 0.17 1.   0.6\n",
      " 0.43 0.27 0.25 0.21 0.2  0.19 0.15 0.14 0.13 0.12 0.11 0.09 0.5  0.18\n",
      " 0.24 0.26 0.29 0.31 0.34 0.36 0.39 0.41 0.45 0.47 0.49 0.51 0.53 0.55\n",
      " 0.56 0.67 0.76 0.82 0.85 0.88 0.89 0.9  0.91 0.92 0.93 0.94 0.95 0.96\n",
      " 0.97 0.99 0.87 0.84 0.8  0.72 0.68 0.65 0.61 0.57 0.42 0.38 0.3  0.22\n",
      " 0.64 0.4  0.62 0.58 0.28 0.16 0.78 0.74 0.7  0.66 0.35 0.83 0.79 0.75\n",
      " 0.71 0.52 0.48 0.44 0.23 0.32 0.46 0.81 0.77 0.73 0.69 0.59 0.54 0.98\n",
      " 0.86 0.37]\n",
      "Valeurs uniques dans dst_host_srv_serror_rate : [0.   0.01 0.13 0.83 0.94 0.84 0.4  0.02 1.   0.05 0.04 0.03 0.5  0.33\n",
      " 0.25 0.2  0.17 0.14 0.12 0.11 0.1  0.09 0.08 0.07 0.06 0.47 0.67 0.95\n",
      " 0.81 0.62 0.48 0.38 0.16 0.57 0.56 0.55 0.75 0.8  0.87 0.32 0.93 0.3\n",
      " 0.68 0.96 0.63 0.88 0.97 0.91 0.98 0.86 0.78 0.46 0.42 0.31 0.29 0.69\n",
      " 0.85 0.9  0.92 0.66 0.45 0.24 0.18 0.15 0.23 0.52 0.6  0.79 0.74 0.82\n",
      " 0.64 0.53]\n",
      "Valeurs uniques dans dst_host_rerror_rate : [0.   1.   0.1  0.05 0.03 0.02 0.01 0.5  0.67 0.75 0.8  0.83 0.86 0.88\n",
      " 0.89 0.9  0.91 0.92 0.93 0.94 0.95 0.96 0.84 0.72 0.63 0.56 0.45 0.42\n",
      " 0.38 0.36 0.33 0.31 0.29 0.32 0.39 0.44 0.47 0.49 0.51 0.53 0.52 0.55\n",
      " 0.58 0.97 0.85 0.68 0.61 0.48 0.4  0.37 0.35 0.34 0.87 0.77 0.69 0.62\n",
      " 0.57 0.74 0.66 0.6  0.98 0.79 0.71 0.64 0.59 0.54 0.65 0.46 0.43 0.41\n",
      " 0.82 0.73 0.81 0.3  0.28 0.27 0.26 0.76 0.7  0.04 0.2  0.13 0.14 0.12\n",
      " 0.11 0.09 0.08 0.07 0.06 0.18 0.19 0.23 0.25 0.15 0.17 0.21 0.16 0.24\n",
      " 0.78 0.99 0.22]\n",
      "Valeurs uniques dans dst_host_srv_rerror_rate : [0.   1.   0.25 0.1  0.5  0.67 0.75 0.8  0.83 0.86 0.88 0.89 0.9  0.91\n",
      " 0.92 0.93 0.94 0.95 0.96 0.05 0.03 0.02 0.01 0.12 0.04 0.14 0.17 0.09\n",
      " 0.18 0.08 0.22 0.06 0.07 0.84 0.78 0.65 0.56 0.48 0.52 0.59 0.64 0.69\n",
      " 0.72 0.77 0.79 0.82 0.85 0.81 0.74 0.11 0.97 0.98 0.99 0.87 0.76 0.68\n",
      " 0.71 0.73 0.33 0.55 0.13 0.35 0.42 0.7  0.66 0.62 0.61 0.58 0.54 0.46\n",
      " 0.39 0.37 0.34 0.38 0.41 0.45 0.49 0.53 0.6  0.21 0.2  0.15 0.4  0.57\n",
      " 0.16 0.43 0.47 0.44 0.36 0.32 0.31 0.3  0.29 0.28 0.27 0.26 0.24 0.23\n",
      " 0.19 0.51 0.63]\n",
      "Valeurs uniques dans label : ['normal' 'buffer_overflow' 'loadmodule' 'perl' 'neptune' 'smurf'\n",
      " 'guess_passwd' 'pod' 'teardrop' 'portsweep' 'ipsweep' 'land' 'ftp_write'\n",
      " 'back' 'imap' 'satan' 'phf' 'nmap' 'multihop' 'warezmaster' 'warezclient'\n",
      " 'spy' 'rootkit']\n"
     ]
    }
   ],
   "source": [
    "for col in df.columns:\n",
    "    print(f\"Valeurs uniques dans {col} : {df[col].unique()}\")"
   ]
  },
  {
   "cell_type": "code",
   "execution_count": null,
   "metadata": {},
   "outputs": [
    {
     "data": {
      "text/plain": [
       "array(['tcp', 'udp', 'icmp'], dtype=object)"
      ]
     },
     "execution_count": 6,
     "metadata": {},
     "output_type": "execute_result"
    }
   ],
   "source": [
    "# Afficher les protocoles présents dans la colonne 'protocol_type'\n",
    "df['protocol_type'].unique()"
   ]
  },
  {
   "cell_type": "code",
   "execution_count": 26,
   "metadata": {},
   "outputs": [
    {
     "name": "stdout",
     "output_type": "stream",
     "text": [
      "Labels après transformation : label\n",
      "1    396743\n",
      "0     97277\n",
      "Name: count, dtype: int64\n"
     ]
    }
   ],
   "source": [
    "df['label'] = np.where(df['label'] == 'normal', 0, 1)\n",
    "print(\"Labels après transformation :\", df['label'].value_counts())"
   ]
  },
  {
   "cell_type": "code",
   "execution_count": 27,
   "metadata": {},
   "outputs": [],
   "source": [
    "# Séparer les normales et les anomalies\n",
    "X = df.drop(columns=['label'])\n",
    "Y = df['label']"
   ]
  },
  {
   "cell_type": "code",
   "execution_count": 28,
   "metadata": {},
   "outputs": [],
   "source": [
    "X_normal = X[Y == 0]\n",
    "Y_normal = Y[Y == 0]"
   ]
  },
  {
   "cell_type": "code",
   "execution_count": 29,
   "metadata": {},
   "outputs": [],
   "source": [
    "\n",
    "X_anomalie = X[Y == 1]\n",
    "Y_anomalie = Y[Y == 1]"
   ]
  },
  {
   "cell_type": "code",
   "execution_count": 30,
   "metadata": {},
   "outputs": [
    {
     "data": {
      "text/plain": [
       "97277"
      ]
     },
     "execution_count": 30,
     "metadata": {},
     "output_type": "execute_result"
    }
   ],
   "source": [
    "# Nombre d’échantillons pour équilibrer\n",
    "taille_echantillon = min(len(X_normal), len(X_anomalie))\n",
    "taille_echantillon"
   ]
  },
  {
   "cell_type": "code",
   "execution_count": 31,
   "metadata": {},
   "outputs": [],
   "source": [
    "X_normal_sampled = X_normal.sample(taille_echantillon, random_state=42)\n",
    "Y_normal_sampled = Y_normal.sample(taille_echantillon, random_state=42)"
   ]
  },
  {
   "cell_type": "code",
   "execution_count": 32,
   "metadata": {},
   "outputs": [],
   "source": [
    "X_anomalie_sampled = X_anomalie.sample(taille_echantillon, random_state=42)\n",
    "Y_anomalie_sampled = Y_anomalie.sample(taille_echantillon, random_state=42)\n"
   ]
  },
  {
   "cell_type": "code",
   "execution_count": null,
   "metadata": {},
   "outputs": [
    {
     "name": "stdout",
     "output_type": "stream",
     "text": [
      " Dataset équilibré : 97277 normales | 97277 anomalies\n"
     ]
    }
   ],
   "source": [
    "# Fusion des datasets équilibrés\n",
    "X_final = pd.concat([X_normal_sampled, X_anomalie_sampled], axis=0)\n",
    "Y_final = pd.concat([Y_normal_sampled, Y_anomalie_sampled], axis=0)\n",
    "print(f\" Dataset équilibré : {sum(Y_final == 0)} normales | {sum(Y_final == 1)} anomalies\")"
   ]
  },
  {
   "cell_type": "code",
   "execution_count": 34,
   "metadata": {},
   "outputs": [],
   "source": [
    "# Encoder les variables catégoriques\n",
    "X_final_encoded = pd.get_dummies(X_final, columns=['protocol_type', 'service', 'flag'])"
   ]
  },
  {
   "cell_type": "code",
   "execution_count": 35,
   "metadata": {},
   "outputs": [
    {
     "name": "stdout",
     "output_type": "stream",
     "text": [
      "duration          int64\n",
      "src_bytes         int64\n",
      "dst_bytes         int64\n",
      "land              int64\n",
      "wrong_fragment    int64\n",
      "                  ...  \n",
      "flag_S1            bool\n",
      "flag_S2            bool\n",
      "flag_S3            bool\n",
      "flag_SF            bool\n",
      "flag_SH            bool\n",
      "Length: 117, dtype: object\n"
     ]
    }
   ],
   "source": [
    "print(X_final_encoded.dtypes)"
   ]
  },
  {
   "cell_type": "code",
   "execution_count": 36,
   "metadata": {},
   "outputs": [],
   "source": [
    "# Appliquer PCA depuis `utils.py`\n",
    "# X_final_pca = apply_pca(X_final_encoded, n_components=30)"
   ]
  },
  {
   "cell_type": "code",
   "execution_count": 37,
   "metadata": {},
   "outputs": [],
   "source": [
    "# Normalisation avec RobustScaler depuis `utils.py`\n",
    "X_scaled = RobScaler(X_final_encoded)"
   ]
  },
  {
   "cell_type": "code",
   "execution_count": 38,
   "metadata": {},
   "outputs": [
    {
     "name": "stdout",
     "output_type": "stream",
     "text": [
      "Données prêtes pour l'entraînement\n"
     ]
    }
   ],
   "source": [
    "# Split dataset en train/test\n",
    "\n",
    "X_train, X_test, Y_train, Y_test = train_test_split(X_scaled, Y_final, test_size=0.3, stratify=Y_final, random_state=42)\n",
    "\n",
    "print(\"Données prêtes pour l'entraînement\")"
   ]
  },
  {
   "cell_type": "code",
   "execution_count": 39,
   "metadata": {},
   "outputs": [],
   "source": [
    "# Définition de la pipeline\n",
    "clf = RandomForestClassifier(n_estimators=100, max_depth=10, min_samples_split=10,\n",
    "                             min_samples_leaf=5, max_features='sqrt', class_weight=\"balanced\", random_state=1)"
   ]
  },
  {
   "cell_type": "code",
   "execution_count": 40,
   "metadata": {},
   "outputs": [
    {
     "name": "stdout",
     "output_type": "stream",
     "text": [
      "Pipeline entraînée avec succès !\n"
     ]
    }
   ],
   "source": [
    "clf = RandomForestClassifier()\n",
    "P = Pipeline([\n",
    "    ('ss', StandardScaler()),\n",
    "    ('FS', SelectFromModel(clf, max_features=30)),\n",
    "    ('classifier', clf)\n",
    "])\n",
    "\n",
    "# Entraînement du pipeline\n",
    "P.fit(X_train, Y_train)\n",
    "print(\"Pipeline entraînée avec succès !\")"
   ]
  },
  {
   "cell_type": "code",
   "execution_count": 41,
   "metadata": {},
   "outputs": [
    {
     "name": "stdout",
     "output_type": "stream",
     "text": [
      "Modèle sauvegardé dans artifacts/model.pkl\n"
     ]
    }
   ],
   "source": [
    "with open('../artifacts/model.pkl', 'wb') as model_file:\n",
    "    pickle.dump(P, model_file)\n",
    "\n",
    "print(\"Modèle sauvegardé dans artifacts/model.pkl\")"
   ]
  },
  {
   "cell_type": "code",
   "execution_count": 42,
   "metadata": {},
   "outputs": [],
   "source": [
    "# Prédictions\n",
    "Y_pred = P.predict(X_test)"
   ]
  },
  {
   "cell_type": "code",
   "execution_count": 43,
   "metadata": {},
   "outputs": [
    {
     "data": {
      "image/png": "[encoded data removed]",
      "text/plain": [
       "<Figure size 640x480 with 2 Axes>"
      ]
     },
     "metadata": {},
     "output_type": "display_data"
    },
    {
     "name": "stdout",
     "output_type": "stream",
     "text": [
      " Rapport de Classification :\n",
      "              precision    recall  f1-score   support\n",
      "\n",
      "           0       1.00      1.00      1.00     29184\n",
      "           1       1.00      1.00      1.00     29183\n",
      "\n",
      "    accuracy                           1.00     58367\n",
      "   macro avg       1.00      1.00      1.00     58367\n",
      "weighted avg       1.00      1.00      1.00     58367\n",
      "\n"
     ]
    }
   ],
   "source": [
    "cm = confusion_matrix(Y_test, Y_pred)\n",
    "disp = ConfusionMatrixDisplay(confusion_matrix=cm, display_labels=[0, 1])\n",
    "disp.plot(cmap=plt.cm.Blues)\n",
    "plt.title(\"Matrice de Confusion\")\n",
    "plt.show()\n",
    "\n",
    "# Rapport de classification\n",
    "print(\" Rapport de Classification :\")\n",
    "print(classification_report(Y_test, Y_pred))"
   ]
  },
  {
   "cell_type": "code",
   "execution_count": 45,
   "metadata": {},
   "outputs": [
    {
     "name": "stdout",
     "output_type": "stream",
     "text": [
      "{'prediction': 1}\n"
     ]
    }
   ],
   "source": [
    "import requests\n",
    "response = requests.post(\"http://localhost:8000/predict\", json={\"features\": [0, \"tcp\", \"http\", \"SF\", 181, 5450, 0, 0, 0, 0, 0, 1, 0, 0, 0, 0, 0, 0, 0, 0, 0, 0, 8, 8, 0.00, 0.00, 0.00, 0.00, 1.00, 0.00, 0.00, 9, 9, 1.00, 0.00, 0.11, 0.00, 0.00, 0.00, 0.00, 0.00]})\n",
    "print(response.json())"
   ]
  },
  {
   "cell_type": "code",
   "execution_count": null,
   "metadata": {},
   "outputs": [],
   "source": []
  }
 ],
 "metadata": {
  "kernelspec": {
   "display_name": ".venv",
   "language": "python",
   "name": "python3"
  },
  "language_info": {
   "codemirror_mode": {
    "name": "ipython",
    "version": 3
   },
   "file_extension": ".py",
   "mimetype": "text/x-python",
   "name": "python",
   "nbconvert_exporter": "python",
   "pygments_lexer": "ipython3",
   "version": "3.11.9"
  }
 },
 "nbformat": 4,
 "nbformat_minor": 2
}
